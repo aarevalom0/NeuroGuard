{
  "cells": [
    {
      "cell_type": "markdown",
      "source": [
        "\n",
        "#Neuroguard, Machine learning for intracranial pressure monitoring"
      ],
      "metadata": {
        "id": "hMEQK_x18nda"
      }
    },
    {
      "cell_type": "markdown",
      "source": [
        "##Dowload data for train and test of the algoritm AI"
      ],
      "metadata": {
        "id": "32XmqCCaBX7F"
      }
    },
    {
      "cell_type": "code",
      "execution_count": 1,
      "metadata": {
        "id": "o2xIhMjw8EhS",
        "outputId": "fb0ad41c-692d-4858-cb3b-26dc81a2eb66",
        "colab": {
          "base_uri": "https://localhost:8080/"
        }
      },
      "outputs": [
        {
          "output_type": "stream",
          "name": "stdout",
          "text": [
            "--2025-01-27 13:27:16--  https://raw.githubusercontent.com/aarevalom0/NeuroGuard/refs/heads/main/kaggle.json\n",
            "Resolving raw.githubusercontent.com (raw.githubusercontent.com)... 185.199.110.133, 185.199.109.133, 185.199.111.133, ...\n",
            "Connecting to raw.githubusercontent.com (raw.githubusercontent.com)|185.199.110.133|:443... connected.\n",
            "HTTP request sent, awaiting response... 200 OK\n",
            "Length: 66 [text/plain]\n",
            "Saving to: ‘kaggle.json’\n",
            "\n",
            "kaggle.json         100%[===================>]      66  --.-KB/s    in 0s      \n",
            "\n",
            "2025-01-27 13:27:16 (1.10 MB/s) - ‘kaggle.json’ saved [66/66]\n",
            "\n",
            "Downloading aptos2019-blindness-detection.zip to /content\n",
            " 34% 3.25G/9.51G [00:26<00:50, 134MB/s]\n",
            "User cancelled operation\n"
          ]
        }
      ],
      "source": [
        "!wget -O kaggle.json https://raw.githubusercontent.com/aarevalom0/NeuroGuard/refs/heads/main/kaggle.json\n",
        "\n",
        "#Some files is able to use Kaggle competitions, In this Sections we donload the files of kaggle\n",
        "!mkdir -p ~/.kaggle\n",
        "!mv kaggle.json ~/.kaggle/\n",
        "!chmod 600 ~/.kaggle/kaggle.json\n",
        "\n",
        "# Files of Kaggle competitions\n",
        "!kaggle competitions download -c aptos2019-blindness-detection\n"
      ]
    },
    {
      "cell_type": "markdown",
      "source": [],
      "metadata": {
        "id": "GZFvvZLY8m1k"
      }
    }
  ],
  "metadata": {
    "language_info": {
      "name": "python"
    },
    "colab": {
      "provenance": []
    },
    "kernelspec": {
      "name": "python3",
      "display_name": "Python 3"
    }
  },
  "nbformat": 4,
  "nbformat_minor": 0
}