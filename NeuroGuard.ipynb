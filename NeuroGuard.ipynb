{
  "cells": [
    {
      "cell_type": "markdown",
      "source": [
        "\n",
        "#Neuroguard, Machine learning for intracranial pressure monitoring"
      ],
      "metadata": {
        "id": "hMEQK_x18nda"
      }
    },
    {
      "cell_type": "markdown",
      "source": [
        "##Specific objectives\n",
        "1. development a algoritm\n",
        "\n",
        "##Sections of the project\n",
        "1. Set up the environment\n",
        "\n",
        "2. Download relevant databases and resources\n",
        "3. Create new development space with SAM\n",
        "4. Assign SAM configuration\n",
        "5. Testing on random images for segmentation\n",
        "6. Check out our WEB page\n"
      ],
      "metadata": {
        "id": "HLPGN5Yd37Gg"
      }
    },
    {
      "cell_type": "markdown",
      "source": [
        "<a id=\"1.setup\"></a>\n",
        "#1. Set Up the environment\n"
      ],
      "metadata": {
        "id": "2zJqP5cg2UWL"
      }
    },
    {
      "cell_type": "code",
      "source": [
        "!gdown --id 1RplOOrelIOycetRtEpoYrLmFZLtsJZUX\n",
        "!7z x SAM_workshop_data2.zip\n",
        "\n",
        "import numpy as np\n",
        "import torch\n",
        "import matplotlib.pyplot as plt\n",
        "import cv2\n",
        "\n",
        "import torch\n",
        "import torchvision\n",
        "import sys\n",
        "!{sys.executable} -m pip install opencv-python matplotlib\n",
        "!{sys.executable} -m pip install 'git+https://github.com/facebookresearch/segment-anything.git'\n",
        "\n",
        "sys.path.append(\"..\")\n",
        "from segment_anything import sam_model_registry, SamAutomaticMaskGenerator, SamPredictor\n",
        "\n",
        "!{sys.executable} -m pip install 'git+https://github.com/cocodataset/cocoapi.git#subdirectory=PythonAPI'\n",
        "!{sys.executable} -m pip install lvis\n",
        "!{sys.executable} -m pip install lvis-api/.\n",
        "!{sys.executable} -m pip install tqdm\n",
        "\n",
        "from copy import deepcopy\n",
        "import logging\n",
        "from collections import defaultdict\n",
        "from collections import OrderedDict\n",
        "\n",
        "from lvis.lvis import LVIS\n",
        "import pycocotools.mask as mask_utils\n",
        "import datetime\n",
        "\n",
        "from tqdm import tqdm\n",
        "import json\n",
        "\n",
        "from lvis import LVIS, LVISVis, LVISResults, LVISEval"
      ],
      "metadata": {
        "id": "6RWiHJTa7ttl"
      },
      "execution_count": null,
      "outputs": []
    },
    {
      "cell_type": "code",
      "execution_count": null,
      "metadata": {
        "id": "o2xIhMjw8EhS",
        "outputId": "fb0ad41c-692d-4858-cb3b-26dc81a2eb66",
        "colab": {
          "base_uri": "https://localhost:8080/"
        }
      },
      "outputs": [
        {
          "output_type": "stream",
          "name": "stdout",
          "text": [
            "--2025-01-27 13:27:16--  https://raw.githubusercontent.com/aarevalom0/NeuroGuard/refs/heads/main/kaggle.json\n",
            "Resolving raw.githubusercontent.com (raw.githubusercontent.com)... 185.199.110.133, 185.199.109.133, 185.199.111.133, ...\n",
            "Connecting to raw.githubusercontent.com (raw.githubusercontent.com)|185.199.110.133|:443... connected.\n",
            "HTTP request sent, awaiting response... 200 OK\n",
            "Length: 66 [text/plain]\n",
            "Saving to: ‘kaggle.json’\n",
            "\n",
            "kaggle.json         100%[===================>]      66  --.-KB/s    in 0s      \n",
            "\n",
            "2025-01-27 13:27:16 (1.10 MB/s) - ‘kaggle.json’ saved [66/66]\n",
            "\n",
            "Downloading aptos2019-blindness-detection.zip to /content\n",
            " 34% 3.25G/9.51G [00:26<00:50, 134MB/s]\n",
            "User cancelled operation\n"
          ]
        }
      ],
      "source": [
        "!wget -O kaggle.json https://raw.githubusercontent.com/aarevalom0/NeuroGuard/refs/heads/main/kaggle.json\n",
        "\n",
        "#Some files is able to use Kaggle competitions, In this Sections we donload the files of kaggle\n",
        "!mkdir -p ~/.kaggle\n",
        "!mv kaggle.json ~/.kaggle/\n",
        "!chmod 600 ~/.kaggle/kaggle.json\n",
        "\n",
        "# Files of Kaggle competitions\n",
        "!kaggle competitions download -c aptos2019-blindness-detection\n"
      ]
    },
    {
      "cell_type": "markdown",
      "source": [
        "#2. Download relevant databases and resources"
      ],
      "metadata": {
        "id": "GZFvvZLY8m1k"
      }
    },
    {
      "cell_type": "code",
      "source": [],
      "metadata": {
        "id": "P8-6u-5H95-6"
      },
      "execution_count": null,
      "outputs": []
    },
    {
      "cell_type": "markdown",
      "source": [],
      "metadata": {
        "id": "aiofBidC5T6N"
      }
    }
  ],
  "metadata": {
    "language_info": {
      "name": "python"
    },
    "colab": {
      "provenance": [],
      "toc_visible": true
    },
    "kernelspec": {
      "name": "python3",
      "display_name": "Python 3"
    }
  },
  "nbformat": 4,
  "nbformat_minor": 0
}