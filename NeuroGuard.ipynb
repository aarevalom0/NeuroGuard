{
  "cells": [
    {
      "cell_type": "markdown",
      "source": [
        "\n",
        "#Neuroguard, Machine learning for intracranial pressure monitoring"
      ],
      "metadata": {
        "id": "hMEQK_x18nda"
      }
    },
    {
      "cell_type": "markdown",
      "source": [
        "##Specific objectives\n",
        "1. development a algoritm\n",
        "\n",
        "##Sections of the project\n",
        "1. Set up the environment\n",
        "\n",
        "2. Download relevant databases and resources\n",
        "3. Create new development space with SAM\n",
        "4. Assign SAM configuration\n",
        "5. Testing on random images for segmentation\n",
        "6. Check out our WEB page\n"
      ],
      "metadata": {
        "id": "HLPGN5Yd37Gg"
      }
    },
    {
      "cell_type": "markdown",
      "source": [
        "<a id=\"1.setup\"></a>\n",
        "#1. Set Up the environment\n"
      ],
      "metadata": {
        "id": "2zJqP5cg2UWL"
      }
    },
    {
      "cell_type": "code",
      "source": [
        "!gdown --id 1RplOOrelIOycetRtEpoYrLmFZLtsJZUX\n",
        "!7z x SAM_workshop_data2.zip\n",
        "\n",
        "import numpy as np\n",
        "import torch\n",
        "import matplotlib.pyplot as plt\n",
        "import cv2\n",
        "\n",
        "import torch\n",
        "import torchvision\n",
        "import sys\n",
        "!{sys.executable} -m pip install opencv-python matplotlib\n",
        "!{sys.executable} -m pip install 'git+https://github.com/facebookresearch/segment-anything.git'\n",
        "\n",
        "sys.path.append(\"..\")\n",
        "from segment_anything import sam_model_registry, SamAutomaticMaskGenerator, SamPredictor\n",
        "\n",
        "!{sys.executable} -m pip install 'git+https://github.com/cocodataset/cocoapi.git#subdirectory=PythonAPI'\n",
        "!{sys.executable} -m pip install lvis\n",
        "!{sys.executable} -m pip install lvis-api/.\n",
        "!{sys.executable} -m pip install tqdm\n",
        "\n",
        "from copy import deepcopy\n",
        "import logging\n",
        "from collections import defaultdict\n",
        "from collections import OrderedDict\n",
        "\n",
        "from lvis.lvis import LVIS\n",
        "import pycocotools.mask as mask_utils\n",
        "import datetime\n",
        "\n",
        "from tqdm import tqdm\n",
        "import json\n",
        "\n",
        "from lvis import LVIS, LVISVis, LVISResults, LVISEval"
      ],
      "metadata": {
        "id": "6RWiHJTa7ttl"
      },
      "execution_count": null,
      "outputs": []
    },
    {
      "cell_type": "markdown",
      "source": [
        "#2. Download relevant databases and resources"
      ],
      "metadata": {
        "id": "GZFvvZLY8m1k"
      }
    },
    {
      "cell_type": "code",
      "source": [
        "!wget -O kaggle.json https://raw.githubusercontent.com/aarevalom0/NeuroGuard/refs/heads/main/kaggle.json\n",
        "!mkdir -p ~/.kaggle\n",
        "!mv kaggle.json ~/.kaggle/\n",
        "!chmod 600 ~/.kaggle/kaggle.json\n",
        "# Files of Kaggle competitions\n",
        "!kaggle competitions download -c aptos2019-blindness-detection\n",
        "!unzip aptos2019-blindness-detection.zip -d ./dataset"
      ],
      "metadata": {
        "id": "P8-6u-5H95-6"
      },
      "execution_count": null,
      "outputs": []
    },
    {
      "cell_type": "markdown",
      "source": [
        "# 3. Create new development space with SAM"
      ],
      "metadata": {
        "id": "mUBxKp3xEead"
      }
    },
    {
      "cell_type": "code",
      "source": [
        "sam_checkpoint = \"sam_vit_h_4b8939.pth\"\n",
        "model_type = \"vit_h\"\n",
        "\n",
        "sam = sam_model_registry[model_type](checkpoint=sam_checkpoint)\n",
        "\n",
        "mask_generator = SamAutomaticMaskGenerator(sam)\n",
        "masks = mask_generator.generate(imagen)"
      ],
      "metadata": {
        "id": "6N_UUIiLEw_Z"
      },
      "execution_count": null,
      "outputs": []
    },
    {
      "cell_type": "markdown",
      "source": [],
      "metadata": {
        "id": "aiofBidC5T6N"
      }
    }
  ],
  "metadata": {
    "language_info": {
      "name": "python"
    },
    "colab": {
      "provenance": [],
      "toc_visible": true
    },
    "kernelspec": {
      "name": "python3",
      "display_name": "Python 3"
    }
  },
  "nbformat": 4,
  "nbformat_minor": 0
}